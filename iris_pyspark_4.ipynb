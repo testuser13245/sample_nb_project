{
 "cells": [
  {
   "cell_type": "code",
   "execution_count": 1,
   "metadata": {},
   "outputs": [
    {
     "name": "stdout",
     "output_type": "stream",
     "text": [
      "[2]\n",
      "[2 1 0 2 0 2 0 1 1 1 2 1 1 1 1 0 1 1 0 0 2 1 0 0 2 0 0 1 1 0]\n",
      "[2 1 0 2 0 2 0 1 1 1 1 1 1 1 1 0 1 1 0 0 2 1 0 0 2 0 0 1 1 0]\n",
      "[[0.  0.  1. ]\n",
      " [0.  0.9 0.1]\n",
      " [1.  0.  0. ]\n",
      " [0.  0.  1. ]\n",
      " [1.  0.  0. ]\n",
      " [0.  0.  1. ]\n",
      " [1.  0.  0. ]\n",
      " [0.  1.  0. ]\n",
      " [0.  1.  0. ]\n",
      " [0.  1.  0. ]\n",
      " [0.  0.6 0.4]\n",
      " [0.  1.  0. ]\n",
      " [0.  1.  0. ]\n",
      " [0.  1.  0. ]\n",
      " [0.  1.  0. ]\n",
      " [1.  0.  0. ]\n",
      " [0.  1.  0. ]\n",
      " [0.  1.  0. ]\n",
      " [1.  0.  0. ]\n",
      " [1.  0.  0. ]\n",
      " [0.  0.1 0.9]\n",
      " [0.  1.  0. ]\n",
      " [1.  0.  0. ]\n",
      " [1.  0.  0. ]\n",
      " [0.  0.1 0.9]\n",
      " [1.  0.  0. ]\n",
      " [1.  0.  0. ]\n",
      " [0.  1.  0. ]\n",
      " [0.  1.  0. ]\n",
      " [1.  0.  0. ]]\n",
      "[0.  0.9 0.  0.  0.  0.  0.  1.  1.  1.  0.6 1.  1.  1.  1.  0.  1.  1.\n",
      " 0.  0.  0.1 1.  0.  0.  0.1 0.  0.  1.  1.  0. ]\n"
     ]
    }
   ],
   "source": [
    "#\n",
    "# Licensed to the Apache Software Foundation (ASF) under one or more\n",
    "# contributor license agreements.  See the NOTICE file distributed with\n",
    "# this work for additional information regarding copyright ownership.\n",
    "# The ASF licenses this file to You under the Apache License, Version 2.0\n",
    "# (the \"License\"); you may not use this file except in compliance with\n",
    "# the License.  You may obtain a copy of the License at\n",
    "#\n",
    "#    http://www.apache.org/licenses/LICENSE-2.0\n",
    "#\n",
    "# Unless required by applicable law or agreed to in writing, software\n",
    "# distributed under the License is distributed on an \"AS IS\" BASIS,\n",
    "# WITHOUT WARRANTIES OR CONDITIONS OF ANY KIND, either express or implied.\n",
    "# See the License for the specific language governing permissions and\n",
    "# limitations under the License.\n",
    "#\n",
    "\n",
    "from __future__ import print_function\n",
    "\n",
    "import sys\n",
    "from random import random\n",
    "from operator import add\n",
    "import os\n",
    "import sys\n",
    "from pyspark.sql import SparkSession\n",
    "\n",
    "\n",
    "spark = SparkSession\\\n",
    "    .builder\\\n",
    "    .appName(\"PythonPi\")\\\n",
    "    .getOrCreate()\n",
    "\n",
    "print(\"\\n\\n\\n\\n\\n ----------------- MY CODE EXECUTION ------------------- \\n\\n\\n\\n\\n\")\n",
    "    \n",
    "# Now I will be testing and modifying the above code to enable it for all use cases\n",
    "from mosaicml import expai\n",
    "from sklearn.ensemble import RandomForestClassifier\n",
    "from sklearn import datasets\n",
    "from mosaicml import *\n",
    "from mosaicml.constants import MLModelFlavours\n",
    "import numpy as np\n",
    "\n",
    "iris = datasets.load_iris()\n",
    "X = iris.data\n",
    "y = iris.target\n",
    "\n",
    "import sklearn\n",
    "from sklearn.model_selection import train_test_split\n",
    "import numpy as np\n",
    "import time\n",
    "\n",
    "X_train,X_test,Y_train,Y_test = train_test_split(X,y, test_size=0.2, random_state=0)\n",
    "\n",
    "clf = RandomForestClassifier(random_state=0, n_jobs=-1)\n",
    "clf = clf.fit(X_train, Y_train)\n",
    "\n",
    "@scoring_func\n",
    "def score(model, request):\n",
    "    payload = request.json[\"payload\"]\n",
    "    data_list = payload\n",
    "    data_array = np.asarray(data_list)\n",
    "    try:\n",
    "        prediction = model.predict(data_array)\n",
    "    except:\n",
    "        prediction = model.predict(data_array.reshape(1, -1))\n",
    "    return prediction.tolist()\n",
    "\n",
    "# # to verify if score func works\n",
    "import requests\n",
    "req = requests.Request()\n",
    "req.json = {\"payload\":X_train[100]}\n",
    "\n",
    "print(score(clf,req))\n",
    "\n",
    "Y_true = Y_test\n",
    "Y_pred = clf.predict(X_test)\n",
    "\n",
    "prob1=clf.predict_proba(X_test)\n",
    "\n",
    "register_model(\n",
    "    clf,\n",
    "    score,\n",
    "    \"iris_classfication_2\",\n",
    "    \"iris_classfication_2\",\n",
    "    MLModelFlavours.sklearn,\n",
    "    init_script=\"mkdir abc \\\\n cd abc \\\\n touch abc.txt\",\n",
    "    input_type=\"json\",\n",
    "    original_features=iris.feature_names,\n",
    "    y_true=Y_true,\n",
    "    y_pred=Y_pred,\n",
    "    prob=prob1,\n",
    "    model_type = \"classification\",\n",
    "    explain_ai=True,\n",
    "    x_train=X_train, \n",
    "    y_train=Y_train, \n",
    "    feature_names=iris.feature_names,\n",
    "    features=iris.feature_names, \n",
    "    feature_ids=iris.feature_names,\n",
    "    target_names=iris.target_names.tolist(),\n",
    "    mode=\"classification\"\n",
    ")\n",
    "print(\"\\n\\n\\n\\n\\n ----------------- Done ------------------- \\n\\n\\n\\n\\n\")\n",
    "\n",
    "spark.stop()\n"
   ]
  },
  {
   "cell_type": "code",
   "execution_count": 3,
   "metadata": {
    "scrolled": false
   },
   "outputs": [
    {
     "name": "stdout",
     "output_type": "stream",
     "text": [
      "Calculating build time metrics\n",
      "\n",
      "Progress: ██████████████████████████████████████████████████████████████████████ 100.0%\n"
     ]
    },
    {
     "name": "stderr",
     "output_type": "stream",
     "text": [
      "2020-12-11 10:29:59,148 - skater.core.explanations - WARNING - Progress bars slow down runs by 10-20%. For slightly \n",
      "faster runs, do progressbar=False\n",
      "2020-12-11 10:29:59,152 - skater.core.explanations - WARNING - Multiprocessing failed, going single process\n"
     ]
    },
    {
     "name": "stdout",
     "output_type": "stream",
     "text": [
      "[25/25] grid cells ████████████████████ Time elapsed: 8 seconds"
     ]
    },
    {
     "name": "stderr",
     "output_type": "stream",
     "text": [
      "2020-12-11 10:30:09,448 - skater.core.explanations - WARNING - Progress bars slow down runs by 10-20%. For slightly \n",
      "faster runs, do progressbar=False\n",
      "2020-12-11 10:30:09,452 - skater.core.explanations - WARNING - Multiprocessing failed, going single process\n"
     ]
    },
    {
     "name": "stdout",
     "output_type": "stream",
     "text": [
      "[22/22] grid cells ████████████████████ Time elapsed: 7 seconds"
     ]
    },
    {
     "name": "stderr",
     "output_type": "stream",
     "text": [
      "2020-12-11 10:30:18,443 - skater.core.explanations - WARNING - Progress bars slow down runs by 10-20%. For slightly \n",
      "faster runs, do progressbar=False\n",
      "2020-12-11 10:30:18,448 - skater.core.explanations - WARNING - Multiprocessing failed, going single process\n"
     ]
    },
    {
     "name": "stdout",
     "output_type": "stream",
     "text": [
      "[25/25] grid cells ████████████████████ Time elapsed: 8 seconds"
     ]
    },
    {
     "name": "stderr",
     "output_type": "stream",
     "text": [
      "2020-12-11 10:30:28,547 - skater.core.explanations - WARNING - Progress bars slow down runs by 10-20%. For slightly \n",
      "faster runs, do progressbar=False\n",
      "2020-12-11 10:30:28,644 - skater.core.explanations - WARNING - Multiprocessing failed, going single process\n"
     ]
    },
    {
     "name": "stdout",
     "output_type": "stream",
     "text": [
      "[22/22] grid cells ████████████████████ Time elapsed: 7 seconds"
     ]
    },
    {
     "name": "stderr",
     "output_type": "stream",
     "text": [
      "2020-12-11 10:30:38,338 - skater.core.explanations - WARNING - Progress bars slow down runs by 10-20%. For slightly \n",
      "faster runs, do progress_bar=False\n",
      "2020-12-11 10:30:38,342 - skater.core.explanations - WARNING - Multiprocessing failed, going single process\n"
     ]
    },
    {
     "name": "stdout",
     "output_type": "stream",
     "text": [
      "[4/4] features ████████████████████ Time elapsed: 2 seconds"
     ]
    },
    {
     "name": "stderr",
     "output_type": "stream",
     "text": [
      "2020-12-11 10:30:41,363 - skater.core.global_interpretation.tree_surrogate - INFO - post pruning applied ...\n",
      "2020-12-11 10:30:41,368 - skater.core.global_interpretation.tree_surrogate - INFO - Scorer used cross-entropy\n",
      "2020-12-11 10:30:41,443 - skater.core.global_interpretation.tree_surrogate - INFO - original score using base model 2.1094237467877998e-15\n",
      "2020-12-11 10:30:41,548 - skater.core.global_interpretation.tree_surrogate - INFO - Summary: childrens of the following nodes are removed []\n",
      "2020-12-11 10:30:41,550 - skater.core.global_interpretation.tree_surrogate - INFO - Done generating prediction using the surrogate, shape (120, 3)\n",
      "2020-12-11 10:30:41,553 - skater.core.global_interpretation.tree_surrogate - INFO - Done scoring, surrogate score 0.0; oracle score 0.034\n",
      "2020-12-11 10:30:41,645 - skater.core.global_interpretation.tree_surrogate - WARNING - impurity score: 0.034 of the surrogate model is higher than the impurity threshold: 0.01. The higher the impurity score, lower is the fidelity/faithfulness of the surrogate model\n"
     ]
    },
    {
     "data": {
      "text/plain": [
       "{'created_by': 'devesh.surve@lntinfotech.com',\n",
       " 'created_on': '2020-12-11T10:29:50+00:00',\n",
       " 'deploymentstatus': False,\n",
       " 'description': 'iris_classfication_2',\n",
       " 'flavour': 'sklearn',\n",
       " 'id': 'a6cd528b-ee51-4d86-a9a0-7762fed7fc9c',\n",
       " 'last_modified_by': 'devesh.surve@lntinfotech.com',\n",
       " 'last_modified_on': '2020-12-11T10:29:50+00:00',\n",
       " 'model_display': True,\n",
       " 'name': 'iris_classfication_2',\n",
       " 'project_id': '8036c7bd-4d5f-478e-a3a1-8fda0d715aee',\n",
       " 'source': '',\n",
       " 'tags': None,\n",
       " 'type': 'model',\n",
       " 'versions': [{'created_by': 'devesh.surve@lntinfotech.com',\n",
       "   'created_on': '2020-12-11T10:29:50+00:00',\n",
       "   'datasource_name': '',\n",
       "   'dependent_model': None,\n",
       "   'deploy_info': None,\n",
       "   'deployments': [],\n",
       "   'description': None,\n",
       "   'docker_image_url': 'registry.lti-aiq.in:443/mosaic-ai-logistics/mosaic-ai-serving:1.0.0-07122020',\n",
       "   'gpu_docker_image_url': 'registry.lti-aiq.in:443/mosaic-ai-logistics/mosaic-ai-serving:gpu-1.0.0-07122020',\n",
       "   'id': '0d0e5ed3-6c15-4dbd-8aff-de7690cef48a',\n",
       "   'init_script': '\"pip install --user absl-py==0.11.0\\\\n pip install --user alembic==1.4.3\\\\n pip install --user astor==0.8.1\\\\n pip install --user astroid==2.3.3\\\\n pip install --user async-generator==1.10\\\\n pip install --user attrs==19.3.0\\\\n pip install --user backcall==0.2.0\\\\n pip install --user beautifulsoup4==4.9.3\\\\n pip install --user bleach==3.1.5\\\\n pip install --user blis==0.4.1\\\\n pip install --user bokeh==2.1.1\\\\n pip install --user bs4==0.0.1\\\\n pip install --user cached-property==1.5.2\\\\n pip install --user cachetools==4.1.1\\\\n pip install --user category-encoders==2.2.2\\\\n pip install --user certifi==2020.12.5\\\\n pip install --user chardet==3.0.4\\\\n pip install --user click==7.1.2\\\\n pip install --user cloudpickle==1.2.2\\\\n pip install --user colorama==0.4.4\\\\n pip install --user colorcet==2.0.2\\\\n pip install --user commonmark==0.9.1\\\\n pip install --user cycler==0.10.0\\\\n pip install --user cymem==2.0.5\\\\n pip install --user dask==2.30.0\\\\n pip install --user dataclasses==0.8\\\\n pip install --user deap==1.3.1\\\\n pip install --user decorator==4.4.2\\\\n pip install --user defusedxml==0.6.0\\\\n pip install --user dill==0.3.3\\\\n pip install --user ds-lime==0.1.1.27\\\\n pip install --user entrypoints==0.3\\\\n pip install --user flasgger==0.9.3\\\\n pip install --user Flask==1.1.1\\\\n pip install --user Flask-Cors==3.0.8\\\\n pip install --user Flask-SQLAlchemy==2.4.3\\\\n pip install --user fonttools==4.18.0\\\\n pip install --user future==0.18.2\\\\n pip install --user gast==0.4.0\\\\n pip install --user google-auth==1.23.0\\\\n pip install --user google-pasta==0.2.0\\\\n pip install --user grpcio==1.34.0\\\\n pip install --user gunicorn==19.9.0\\\\n pip install --user h5py==3.1.0\\\\n pip install --user holoviews==1.14.0\\\\n pip install --user idna==2.8\\\\n pip install --user importlib-metadata==1.7.0\\\\n pip install --user ipykernel==5.3.1\\\\n pip install --user ipyplot==1.1.0\\\\n pip install --user ipython==7.16.1\\\\n pip install --user ipython-genutils==0.2.0\\\\n pip install --user ipywidgets==7.5.1\\\\n pip install --user isort==4.3.21\\\\n pip install --user itsdangerous==1.1.0\\\\n pip install --user jedi==0.17.1\\\\n pip install --user Jinja2==2.11.2\\\\n pip install --user joblib==0.11\\\\n pip install --user jsonpickle==1.2\\\\n pip install --user jsonschema==2.6.0\\\\n pip install --user jupyter==1.0.0\\\\n pip install --user jupyter-client==6.1.5\\\\n pip install --user jupyter-console==6.1.0\\\\n pip install --user jupyter-contrib-core==0.3.3\\\\n pip install --user jupyter-contrib-nbextensions==0.5.1\\\\n pip install --user jupyter-core==4.6.3\\\\n pip install --user jupyter-highlight-selected-word==0.2.0\\\\n pip install --user jupyter-latex-envs==1.4.6\\\\n pip install --user jupyter-nbextensions-configurator==0.4.1\\\\n pip install --user jupyterhub==0.9.4\\\\n pip install --user Keras==2.2.4\\\\n pip install --user Keras-Applications==1.0.8\\\\n pip install --user Keras-Preprocessing==1.1.2\\\\n pip install --user kiwisolver==1.3.1\\\\n pip install --user kubernetes==9.0.0\\\\n pip install --user kyd==0.1.8\\\\n pip install --user lazy-object-proxy==1.4.3\\\\n pip install --user lxml==4.6.2\\\\n pip install --user Mako==1.1.3\\\\n pip install --user Markdown==3.3.3\\\\n pip install --user MarkupSafe==1.1.1\\\\n pip install --user matplotlib==3.1.1\\\\n pip install --user mccabe==0.6.1\\\\n pip install --user minio==4.0.18\\\\n pip install --user mistune==0.8.4\\\\n pip install --user multiprocess==0.70.11.1\\\\n pip install --user murmurhash==1.0.5\\\\n pip install --user mysql-connector-python==8.0.17\\\\n pip install --user mysql-connector-python-rf==2.2.2\\\\n pip install --user nbconvert==5.6.1\\\\n pip install --user nbformat==5.0.7\\\\n pip install --user networkx==2.5\\\\n pip install --user nltk==3.5\\\\n pip install --user notebook==5.7.0\\\\n pip install --user numpy==1.17.0\\\\n pip install --user oauthlib==3.1.0\\\\n pip install --user packaging==20.4\\\\n pip install --user pamela==1.0.0\\\\n pip install --user pandas==0.25.1\\\\n pip install --user pandocfilters==1.4.2\\\\n pip install --user panel==0.10.2\\\\n pip install --user param==1.10.0\\\\n pip install --user parso==0.7.0\\\\n pip install --user patsy==0.5.1\\\\n pip install --user pexpect==4.8.0\\\\n pip install --user pickleshare==0.7.5\\\\n pip install --user Pillow==8.0.1\\\\n pip install --user plac==1.1.3\\\\n pip install --user preshed==3.0.5\\\\n pip install --user prometheus-client==0.8.0\\\\n pip install --user prompt-toolkit==3.0.5\\\\n pip install --user protobuf==3.14.0\\\\n pip install --user ptyprocess==0.6.0\\\\n pip install --user py4j==0.10.4\\\\n pip install --user pyasn1==0.4.8\\\\n pip install --user pyasn1-modules==0.2.8\\\\n pip install --user pyct==0.4.8\\\\n pip install --user pydotplus==2.0.2\\\\n pip install --user Pygments==2.6.1\\\\n pip install --user PyJWT==1.7.1\\\\n pip install --user pylint==2.4.4\\\\n pip install --user pyparsing==2.4.7\\\\n pip install --user pyrsistent==0.16.0\\\\n pip install --user pyspark==2.1.2\\\\n pip install --user python-dateutil==2.8.1\\\\n pip install --user python-editor==1.0.4\\\\n pip install --user python-oauth2==1.1.1\\\\n pip install --user pytz==2020.4\\\\n pip install --user pyviz-comms==0.7.6\\\\n pip install --user PyWavelets==1.1.1\\\\n pip install --user PyYAML==5.1.2\\\\n pip install --user pyzmq==19.0.1\\\\n pip install --user qgrid==1.3.1\\\\n pip install --user qtconsole==4.7.5\\\\n pip install --user QtPy==1.9.0\\\\n pip install --user regex==2020.11.13\\\\n pip install --user requests==2.22.0\\\\n pip install --user requests-oauthlib==1.3.0\\\\n pip install --user requests-toolbelt==0.9.1\\\\n pip install --user rich==9.3.0\\\\n pip install --user rsa==4.6\\\\n pip install --user scikit-image==0.14.0\\\\n pip install --user scikit-learn==0.21.3\\\\n pip install --user scipy==1.5.4\\\\n pip install --user Send2Trash==1.5.0\\\\n pip install --user setuptools==49.1.0\\\\n pip install --user shortuuid==1.0.1\\\\n pip install --user simplejson==3.16.0\\\\n pip install --user six==1.15.0\\\\n pip install --user skater==1.1.2\\\\n pip install --user sklearn==0.0\\\\n pip install --user socketIO-client==0.7.2\\\\n pip install --user soupsieve==2.0.1\\\\n pip install --user spacy==2.2.2\\\\n pip install --user SQLAlchemy==1.3.18\\\\n pip install --user srsly==1.0.5\\\\n pip install --user statsmodels==0.12.1\\\\n pip install --user stopit==1.1.2\\\\n pip install --user tabulate==0.8.7\\\\n pip install --user tensorboard==1.14.0\\\\n pip install --user tensorflow==1.14.0\\\\n pip install --user tensorflow-estimator==1.14.0\\\\n pip install --user termcolor==1.1.0\\\\n pip install --user terminado==0.8.3\\\\n pip install --user testpath==0.4.4\\\\n pip install --user thinc==7.3.1\\\\n pip install --user toolz==0.11.1\\\\n pip install --user torch==1.2.0\\\\n pip install --user torchvision==0.4.0\\\\n pip install --user tornado==5.1.1\\\\n pip install --user tqdm==4.54.1\\\\n pip install --user traitlets==4.3.3\\\\n pip install --user typed-ast==1.4.1\\\\n pip install --user typing-extensions==3.7.4.3\\\\n pip install --user update-checker==0.18.0\\\\n pip install --user urllib3==1.25.11\\\\n pip install --user wasabi==0.8.0\\\\n pip install --user wcwidth==0.2.5\\\\n pip install --user webencodings==0.5.1\\\\n pip install --user websocket-client==0.57.0\\\\n pip install --user Werkzeug==1.0.1\\\\n pip install --user wheel==0.34.2\\\\n pip install --user widgetsnbextension==3.5.1\\\\n pip install --user wordcloud==1.8.1\\\\n pip install --user wrapt==1.11.2\\\\n pip install --user xgboost==0.90\\\\n pip install --user zipp==3.1.0\\\\n \\\\nmkdir abc \\\\n cd abc \\\\n touch abc.txt\"',\n",
       "   'input_type': 'json',\n",
       "   'last_modified_by': 'devesh.surve@lntinfotech.com',\n",
       "   'last_modified_on': '2020-12-11T10:29:58+00:00',\n",
       "   'metadata_info': None,\n",
       "   'ml_model_id': 'a6cd528b-ee51-4d86-a9a0-7762fed7fc9c',\n",
       "   'model_class': {'base_estimator': \"DecisionTreeClassifier(class_weight=None, criterion='gini', max_depth=None,\\n                       max_features=None, max_leaf_nodes=None,\\n                       min_impurity_decrease=0.0, min_impurity_split=None,\\n                       min_samples_leaf=1, min_samples_split=2,\\n                       min_weight_fraction_leaf=0.0, presort=False,\\n                       random_state=None, splitter='best')\",\n",
       "    'base_estimator_': \"DecisionTreeClassifier(class_weight=None, criterion='gini', max_depth=None,\\n                       max_features=None, max_leaf_nodes=None,\\n                       min_impurity_decrease=0.0, min_impurity_split=None,\\n                       min_samples_leaf=1, min_samples_split=2,\\n                       min_weight_fraction_leaf=0.0, presort=False,\\n                       random_state=None, splitter='best')\",\n",
       "    'bootstrap': True,\n",
       "    'class': 'sklearn.ensemble.forest.RandomForestClassifier',\n",
       "    'class_weight': None,\n",
       "    'classes_': [0, 1, 2],\n",
       "    'criterion': 'gini',\n",
       "    'estimator_params': ['criterion',\n",
       "     'max_depth',\n",
       "     'min_samples_split',\n",
       "     'min_samples_leaf',\n",
       "     'min_weight_fraction_leaf',\n",
       "     'max_features',\n",
       "     'max_leaf_nodes',\n",
       "     'min_impurity_decrease',\n",
       "     'min_impurity_split',\n",
       "     'random_state'],\n",
       "    'estimators_': [\"DecisionTreeClassifier(class_weight=None, criterion='gini', max_depth=None,\\n                       max_features='auto', max_leaf_nodes=None,\\n                       min_impurity_decrease=0.0, min_impurity_split=None,\\n                       min_samples_leaf=1, min_samples_split=2,\\n                       min_weight_fraction_leaf=0.0, presort=False,\\n                       random_state=209652396, splitter='best')\",\n",
       "     \"DecisionTreeClassifier(class_weight=None, criterion='gini', max_depth=None,\\n                       max_features='auto', max_leaf_nodes=None,\\n                       min_impurity_decrease=0.0, min_impurity_split=None,\\n                       min_samples_leaf=1, min_samples_split=2,\\n                       min_weight_fraction_leaf=0.0, presort=False,\\n                       random_state=398764591, splitter='best')\",\n",
       "     \"DecisionTreeClassifier(class_weight=None, criterion='gini', max_depth=None,\\n                       max_features='auto', max_leaf_nodes=None,\\n                       min_impurity_decrease=0.0, min_impurity_split=None,\\n                       min_samples_leaf=1, min_samples_split=2,\\n                       min_weight_fraction_leaf=0.0, presort=False,\\n                       random_state=924231285, splitter='best')\",\n",
       "     \"DecisionTreeClassifier(class_weight=None, criterion='gini', max_depth=None,\\n                       max_features='auto', max_leaf_nodes=None,\\n                       min_impurity_decrease=0.0, min_impurity_split=None,\\n                       min_samples_leaf=1, min_samples_split=2,\\n                       min_weight_fraction_leaf=0.0, presort=False,\\n                       random_state=1478610112, splitter='best')\",\n",
       "     \"DecisionTreeClassifier(class_weight=None, criterion='gini', max_depth=None,\\n                       max_features='auto', max_leaf_nodes=None,\\n                       min_impurity_decrease=0.0, min_impurity_split=None,\\n                       min_samples_leaf=1, min_samples_split=2,\\n                       min_weight_fraction_leaf=0.0, presort=False,\\n                       random_state=441365315, splitter='best')\",\n",
       "     \"DecisionTreeClassifier(class_weight=None, criterion='gini', max_depth=None,\\n                       max_features='auto', max_leaf_nodes=None,\\n                       min_impurity_decrease=0.0, min_impurity_split=None,\\n                       min_samples_leaf=1, min_samples_split=2,\\n                       min_weight_fraction_leaf=0.0, presort=False,\\n                       random_state=1537364731, splitter='best')\",\n",
       "     \"DecisionTreeClassifier(class_weight=None, criterion='gini', max_depth=None,\\n                       max_features='auto', max_leaf_nodes=None,\\n                       min_impurity_decrease=0.0, min_impurity_split=None,\\n                       min_samples_leaf=1, min_samples_split=2,\\n                       min_weight_fraction_leaf=0.0, presort=False,\\n                       random_state=192771779, splitter='best')\",\n",
       "     \"DecisionTreeClassifier(class_weight=None, criterion='gini', max_depth=None,\\n                       max_features='auto', max_leaf_nodes=None,\\n                       min_impurity_decrease=0.0, min_impurity_split=None,\\n                       min_samples_leaf=1, min_samples_split=2,\\n                       min_weight_fraction_leaf=0.0, presort=False,\\n                       random_state=1491434855, splitter='best')\",\n",
       "     \"DecisionTreeClassifier(class_weight=None, criterion='gini', max_depth=None,\\n                       max_features='auto', max_leaf_nodes=None,\\n                       min_impurity_decrease=0.0, min_impurity_split=None,\\n                       min_samples_leaf=1, min_samples_split=2,\\n                       min_weight_fraction_leaf=0.0, presort=False,\\n                       random_state=1819583497, splitter='best')\",\n",
       "     \"DecisionTreeClassifier(class_weight=None, criterion='gini', max_depth=None,\\n                       max_features='auto', max_leaf_nodes=None,\\n                       min_impurity_decrease=0.0, min_impurity_split=None,\\n                       min_samples_leaf=1, min_samples_split=2,\\n                       min_weight_fraction_leaf=0.0, presort=False,\\n                       random_state=530702035, splitter='best')\"],\n",
       "    'max_depth': None,\n",
       "    'max_features': 'auto',\n",
       "    'max_leaf_nodes': None,\n",
       "    'min_impurity_decrease': 0,\n",
       "    'min_impurity_split': None,\n",
       "    'min_samples_leaf': 1,\n",
       "    'min_samples_split': 2,\n",
       "    'min_weight_fraction_leaf': 0,\n",
       "    'n_classes_': 3,\n",
       "    'n_estimators': 10,\n",
       "    'n_features_': 4,\n",
       "    'n_jobs': -1,\n",
       "    'n_outputs_': 1,\n",
       "    'oob_score': False,\n",
       "    'random_state': 0,\n",
       "    'verbose': 0,\n",
       "    'warm_start': False},\n",
       "   'model_info': {'deep_learning_model': False,\n",
       "    'feature_names': ['sepal length (cm)',\n",
       "     'sepal width (cm)',\n",
       "     'petal length (cm)',\n",
       "     'petal width (cm)'],\n",
       "    'min_max_features': [{'data_type': 'numerical',\n",
       "      'feature_name': 'sepal length (cm)',\n",
       "      'max': 7,\n",
       "      'min': 4},\n",
       "     {'data_type': 'numerical',\n",
       "      'feature_name': 'sepal width (cm)',\n",
       "      'max': 4,\n",
       "      'min': 2},\n",
       "     {'data_type': 'numerical',\n",
       "      'feature_name': 'petal length (cm)',\n",
       "      'max': 6,\n",
       "      'min': 1},\n",
       "     {'data_type': 'numerical',\n",
       "      'feature_name': 'petal width (cm)',\n",
       "      'max': 2,\n",
       "      'min': 0}],\n",
       "    'mode': 'classification',\n",
       "    'number_of_features': 4,\n",
       "    'target_names': ['setosa', 'versicolor', 'virginica'],\n",
       "    'temp_dir': ''},\n",
       "   'object_url': 'a6cd528b-ee51-4d86-a9a0-7762fed7fc9c/0d0e5ed3-6c15-4dbd-8aff-de7690cef48a/ml_model.tar.gz',\n",
       "   'profiling': [],\n",
       "   'schema': {},\n",
       "   'status': 'active',\n",
       "   'target_names': {'target': ['setosa', 'versicolor', 'virginica']},\n",
       "   'version_no': 1,\n",
       "   'detailed_matrix': '{\"tag\": \"detailed_matrix\", \"model_metric_value\": {\"Accuracy Score\": 0.9666666666666667, \"Average Precision Score\": null, \"Balanced Accuracy Score\": 0.9444444444444445, \"Brier Score Loss\": null, \"Matthews Correlation Coefficient\": 0.9488580359780636, \"F1 Score\": 0.9657687991021324, \"F-beta Score\": 0.9671869193608323, \"Log Loss\": null, \"Precision Score\": 0.9690476190476189, \"Recall Score\": 0.9666666666666667, \"Zero One Loss\": 0.033333333333333326}}'}]}"
      ]
     },
     "execution_count": 3,
     "metadata": {},
     "output_type": "execute_result"
    }
   ],
   "source": []
  },
  {
   "cell_type": "code",
   "execution_count": null,
   "metadata": {},
   "outputs": [],
   "source": []
  }
 ],
 "metadata": {
  "kernelspec": {
   "display_name": "Python 3",
   "language": "python",
   "name": "python3"
  },
  "language_info": {
   "codemirror_mode": {
    "name": "ipython",
    "version": 3
   },
   "file_extension": ".py",
   "mimetype": "text/x-python",
   "name": "python",
   "nbconvert_exporter": "python",
   "pygments_lexer": "ipython3",
   "version": "3.6.2"
  }
 },
 "nbformat": 4,
 "nbformat_minor": 4
}
